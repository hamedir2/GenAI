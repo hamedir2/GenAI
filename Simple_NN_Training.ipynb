{
  "nbformat": 4,
  "nbformat_minor": 0,
  "metadata": {
    "colab": {
      "provenance": [],
      "authorship_tag": "ABX9TyOOEQoJEjdcsvb9kO+ofZl/",
      "include_colab_link": true
    },
    "kernelspec": {
      "name": "python3",
      "display_name": "Python 3"
    },
    "language_info": {
      "name": "python"
    }
  },
  "cells": [
    {
      "cell_type": "markdown",
      "metadata": {
        "id": "view-in-github",
        "colab_type": "text"
      },
      "source": [
        "<a href=\"https://colab.research.google.com/github/hamedir2/GenAI/blob/main/Simple_NN_Training.ipynb\" target=\"_parent\"><img src=\"https://colab.research.google.com/assets/colab-badge.svg\" alt=\"Open In Colab\"/></a>"
      ]
    },
    {
      "cell_type": "code",
      "execution_count": 1,
      "metadata": {
        "colab": {
          "base_uri": "https://localhost:8080/"
        },
        "id": "lf-P580KvbXV",
        "outputId": "9e360d51-8f41-4f26-bcc5-02aab5fdbb92"
      },
      "outputs": [
        {
          "output_type": "stream",
          "name": "stdout",
          "text": [
            "Downloading http://yann.lecun.com/exdb/mnist/train-images-idx3-ubyte.gz\n",
            "Failed to download (trying next):\n",
            "<urlopen error [SSL: CERTIFICATE_VERIFY_FAILED] certificate verify failed: certificate has expired (_ssl.c:1007)>\n",
            "\n",
            "Downloading https://ossci-datasets.s3.amazonaws.com/mnist/train-images-idx3-ubyte.gz\n",
            "Downloading https://ossci-datasets.s3.amazonaws.com/mnist/train-images-idx3-ubyte.gz to ./data/MNIST/raw/train-images-idx3-ubyte.gz\n"
          ]
        },
        {
          "output_type": "stream",
          "name": "stderr",
          "text": [
            "100%|██████████| 9.91M/9.91M [00:00<00:00, 15.9MB/s]\n"
          ]
        },
        {
          "output_type": "stream",
          "name": "stdout",
          "text": [
            "Extracting ./data/MNIST/raw/train-images-idx3-ubyte.gz to ./data/MNIST/raw\n",
            "\n",
            "Downloading http://yann.lecun.com/exdb/mnist/train-labels-idx1-ubyte.gz\n",
            "Failed to download (trying next):\n",
            "<urlopen error [SSL: CERTIFICATE_VERIFY_FAILED] certificate verify failed: certificate has expired (_ssl.c:1007)>\n",
            "\n",
            "Downloading https://ossci-datasets.s3.amazonaws.com/mnist/train-labels-idx1-ubyte.gz\n",
            "Downloading https://ossci-datasets.s3.amazonaws.com/mnist/train-labels-idx1-ubyte.gz to ./data/MNIST/raw/train-labels-idx1-ubyte.gz\n"
          ]
        },
        {
          "output_type": "stream",
          "name": "stderr",
          "text": [
            "100%|██████████| 28.9k/28.9k [00:00<00:00, 486kB/s]\n"
          ]
        },
        {
          "output_type": "stream",
          "name": "stdout",
          "text": [
            "Extracting ./data/MNIST/raw/train-labels-idx1-ubyte.gz to ./data/MNIST/raw\n",
            "\n",
            "Downloading http://yann.lecun.com/exdb/mnist/t10k-images-idx3-ubyte.gz\n",
            "Failed to download (trying next):\n",
            "<urlopen error [SSL: CERTIFICATE_VERIFY_FAILED] certificate verify failed: certificate has expired (_ssl.c:1007)>\n",
            "\n",
            "Downloading https://ossci-datasets.s3.amazonaws.com/mnist/t10k-images-idx3-ubyte.gz\n",
            "Downloading https://ossci-datasets.s3.amazonaws.com/mnist/t10k-images-idx3-ubyte.gz to ./data/MNIST/raw/t10k-images-idx3-ubyte.gz\n"
          ]
        },
        {
          "output_type": "stream",
          "name": "stderr",
          "text": [
            "100%|██████████| 1.65M/1.65M [00:00<00:00, 4.34MB/s]\n"
          ]
        },
        {
          "output_type": "stream",
          "name": "stdout",
          "text": [
            "Extracting ./data/MNIST/raw/t10k-images-idx3-ubyte.gz to ./data/MNIST/raw\n",
            "\n",
            "Downloading http://yann.lecun.com/exdb/mnist/t10k-labels-idx1-ubyte.gz\n",
            "Failed to download (trying next):\n",
            "<urlopen error [SSL: CERTIFICATE_VERIFY_FAILED] certificate verify failed: certificate has expired (_ssl.c:1007)>\n",
            "\n",
            "Downloading https://ossci-datasets.s3.amazonaws.com/mnist/t10k-labels-idx1-ubyte.gz\n",
            "Downloading https://ossci-datasets.s3.amazonaws.com/mnist/t10k-labels-idx1-ubyte.gz to ./data/MNIST/raw/t10k-labels-idx1-ubyte.gz\n"
          ]
        },
        {
          "output_type": "stream",
          "name": "stderr",
          "text": [
            "100%|██████████| 4.54k/4.54k [00:00<00:00, 2.05MB/s]\n"
          ]
        },
        {
          "output_type": "stream",
          "name": "stdout",
          "text": [
            "Extracting ./data/MNIST/raw/t10k-labels-idx1-ubyte.gz to ./data/MNIST/raw\n",
            "\n",
            "Epoch [1/5], Step [100/938], Loss: 0.4603\n",
            "Epoch [1/5], Step [200/938], Loss: 0.4961\n",
            "Epoch [1/5], Step [300/938], Loss: 0.1948\n",
            "Epoch [1/5], Step [400/938], Loss: 0.2104\n",
            "Epoch [1/5], Step [500/938], Loss: 0.1294\n",
            "Epoch [1/5], Step [600/938], Loss: 0.3582\n",
            "Epoch [1/5], Step [700/938], Loss: 0.1718\n",
            "Epoch [1/5], Step [800/938], Loss: 0.1563\n",
            "Epoch [1/5], Step [900/938], Loss: 0.1903\n",
            "Epoch [2/5], Step [100/938], Loss: 0.2995\n",
            "Epoch [2/5], Step [200/938], Loss: 0.1661\n",
            "Epoch [2/5], Step [300/938], Loss: 0.2906\n",
            "Epoch [2/5], Step [400/938], Loss: 0.1421\n",
            "Epoch [2/5], Step [500/938], Loss: 0.1643\n",
            "Epoch [2/5], Step [600/938], Loss: 0.1100\n",
            "Epoch [2/5], Step [700/938], Loss: 0.2161\n",
            "Epoch [2/5], Step [800/938], Loss: 0.1323\n",
            "Epoch [2/5], Step [900/938], Loss: 0.1606\n",
            "Epoch [3/5], Step [100/938], Loss: 0.1176\n",
            "Epoch [3/5], Step [200/938], Loss: 0.1924\n",
            "Epoch [3/5], Step [300/938], Loss: 0.1365\n",
            "Epoch [3/5], Step [400/938], Loss: 0.0358\n",
            "Epoch [3/5], Step [500/938], Loss: 0.2231\n",
            "Epoch [3/5], Step [600/938], Loss: 0.1717\n",
            "Epoch [3/5], Step [700/938], Loss: 0.0994\n",
            "Epoch [3/5], Step [800/938], Loss: 0.0360\n",
            "Epoch [3/5], Step [900/938], Loss: 0.1021\n",
            "Epoch [4/5], Step [100/938], Loss: 0.1016\n",
            "Epoch [4/5], Step [200/938], Loss: 0.1251\n",
            "Epoch [4/5], Step [300/938], Loss: 0.0246\n",
            "Epoch [4/5], Step [400/938], Loss: 0.1921\n",
            "Epoch [4/5], Step [500/938], Loss: 0.0994\n",
            "Epoch [4/5], Step [600/938], Loss: 0.0981\n",
            "Epoch [4/5], Step [700/938], Loss: 0.0714\n",
            "Epoch [4/5], Step [800/938], Loss: 0.1963\n",
            "Epoch [4/5], Step [900/938], Loss: 0.1776\n",
            "Epoch [5/5], Step [100/938], Loss: 0.1157\n",
            "Epoch [5/5], Step [200/938], Loss: 0.0462\n",
            "Epoch [5/5], Step [300/938], Loss: 0.1002\n",
            "Epoch [5/5], Step [400/938], Loss: 0.0415\n",
            "Epoch [5/5], Step [500/938], Loss: 0.0120\n",
            "Epoch [5/5], Step [600/938], Loss: 0.0354\n",
            "Epoch [5/5], Step [700/938], Loss: 0.0223\n",
            "Epoch [5/5], Step [800/938], Loss: 0.0130\n",
            "Epoch [5/5], Step [900/938], Loss: 0.0350\n",
            "Training finished.\n"
          ]
        }
      ],
      "source": [
        "import torch\n",
        "import torch.nn as nn\n",
        "import torch.optim as optim\n",
        "from torchvision import datasets, transforms\n",
        "\n",
        "# Check if GPU is available\n",
        "device = torch.device('cuda' if torch.cuda.is_available() else 'cpu')\n",
        "\n",
        "# Define the neural network\n",
        "class SimpleNN(nn.Module):\n",
        "    def __init__(self):\n",
        "        super(SimpleNN, self).__init__()\n",
        "        self.fc1 = nn.Linear(28 * 28, 128)  # Fully connected layer 1\n",
        "        self.fc2 = nn.Linear(128, 10)       # Fully connected layer 2 (output)\n",
        "\n",
        "    def forward(self, x):\n",
        "        x = x.view(-1, 28 * 28)  # Flatten the input\n",
        "        x = torch.relu(self.fc1(x))\n",
        "        x = self.fc2(x)\n",
        "        return x\n",
        "\n",
        "# Load MNIST dataset\n",
        "train_dataset = datasets.MNIST(root='./data', train=True, transform=transforms.ToTensor(), download=True)\n",
        "train_loader = torch.utils.data.DataLoader(dataset=train_dataset, batch_size=64, shuffle=True)\n",
        "\n",
        "# Initialize the network, loss function, and optimizer\n",
        "model = SimpleNN().to(device)\n",
        "criterion = nn.CrossEntropyLoss()\n",
        "optimizer = optim.Adam(model.parameters(), lr=0.001)\n",
        "\n",
        "# Training loop\n",
        "num_epochs = 5\n",
        "for epoch in range(num_epochs):\n",
        "    for i, (images, labels) in enumerate(train_loader):\n",
        "        images, labels = images.to(device), labels.to(device)\n",
        "\n",
        "        # Forward pass\n",
        "        outputs = model(images)\n",
        "        loss = criterion(outputs, labels)\n",
        "\n",
        "        # Backward and optimize\n",
        "        optimizer.zero_grad()\n",
        "        loss.backward()\n",
        "        optimizer.step()\n",
        "\n",
        "        if (i+1) % 100 == 0:\n",
        "            print(f'Epoch [{epoch+1}/{num_epochs}], Step [{i+1}/{len(train_loader)}], Loss: {loss.item():.4f}')\n",
        "\n",
        "print(\"Training finished.\")"
      ]
    },
    {
      "cell_type": "code",
      "source": [],
      "metadata": {
        "id": "rPjWhx5lvhwA"
      },
      "execution_count": null,
      "outputs": []
    }
  ]
}